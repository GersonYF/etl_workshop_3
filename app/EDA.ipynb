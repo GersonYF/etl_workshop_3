{
 "cells": [
  {
   "cell_type": "markdown",
   "metadata": {},
   "source": [
    "# Workshop 3\n",
    "\n",
    "## Student: Gerson Yarce Franco - 2221479\n",
    "\n",
    "## What's expected?\n",
    "TODO\n",
    "\n",
    "### Goals\n"
   ]
  },
  {
   "cell_type": "markdown",
   "metadata": {},
   "source": [
    "## Setup"
   ]
  },
  {
   "cell_type": "markdown",
   "metadata": {},
   "source": [
    "### Importing Libraries"
   ]
  },
  {
   "cell_type": "code",
   "execution_count": 1,
   "metadata": {},
   "outputs": [],
   "source": [
    "import os\n",
    "import pandas as pd\n",
    "import numpy as np\n",
    "import matplotlib.pyplot as plt\n",
    "import seaborn as sns\n",
    "\n",
    "import calendar\n",
    "\n",
    "from db.engine import engine\n",
    "from core.config import settings\n",
    "from utils.eda import (\n",
    "    colors,\n",
    "    start_bold,\n",
    "    end_bold,\n",
    "    get_max_count_values,\n",
    "    get_min_count_values,\n",
    "    plot_word_cloud,\n",
    "    plot_counts,\n",
    "    get_min_max_counts,\n",
    "    plot_stacked_bar_from_combinations,\n",
    "    get_color,\n",
    ")\n",
    "\n",
    "%matplotlib inline"
   ]
  }
 ],
 "metadata": {
  "kernelspec": {
   "display_name": "Python 3 (ipykernel)",
   "language": "python",
   "name": "python3"
  }
 },
 "nbformat": 4,
 "nbformat_minor": 4
}
